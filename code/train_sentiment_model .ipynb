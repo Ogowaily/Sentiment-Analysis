{
  "nbformat": 4,
  "nbformat_minor": 0,
  "metadata": {
    "colab": {
      "provenance": []
    },
    "kernelspec": {
      "name": "python3",
      "display_name": "Python 3"
    },
    "language_info": {
      "name": "python"
    }
  },
  "cells": [
    {
      "cell_type": "code",
      "source": [
        "from google.colab import drive\n",
        "drive.mount('/content/drive')"
      ],
      "metadata": {
        "colab": {
          "base_uri": "https://localhost:8080/"
        },
        "id": "QpnMen64A4bD",
        "outputId": "5d9ddc51-73e3-4a81-896b-b9b6f5436f19"
      },
      "execution_count": 1,
      "outputs": [
        {
          "output_type": "stream",
          "name": "stdout",
          "text": [
            "Mounted at /content/drive\n"
          ]
        }
      ]
    },
    {
      "cell_type": "code",
      "source": [
        "import pandas as pd\n",
        "def load_data(file_path):\n",
        "  df=pd.read_csv(file_path,encoding='latin-1',header=None)\n",
        "  df.columns=['target','id','date','flag','user','text']\n",
        "\n",
        "  return df"
      ],
      "metadata": {
        "id": "OnqSA-anCa_1"
      },
      "execution_count": 14,
      "outputs": []
    },
    {
      "cell_type": "code",
      "source": [
        "df=load_data(\"/content/drive/MyDrive/sentiment_project/Data/training.1600000.processed.noemoticon.csv\")\n",
        ""
      ],
      "metadata": {
        "id": "2M6u0BWOCv8t"
      },
      "execution_count": 15,
      "outputs": []
    },
    {
      "cell_type": "code",
      "source": [
        "import sys\n",
        "sys.path.append('/content/drive/MyDrive/sentiment_project')\n",
        "\n",
        "from data_processing import preprocess_tweet\n",
        "df['Clean_text']=df['text'].apply(preprocess_tweet)"
      ],
      "metadata": {
        "colab": {
          "base_uri": "https://localhost:8080/"
        },
        "id": "s-DZQ86QD08X",
        "outputId": "0b105099-e978-4b1c-e80e-851260052285"
      },
      "execution_count": 17,
      "outputs": [
        {
          "output_type": "stream",
          "name": "stderr",
          "text": [
            "[nltk_data] Downloading package stopwords to /root/nltk_data...\n",
            "[nltk_data]   Unzipping corpora/stopwords.zip.\n"
          ]
        }
      ]
    },
    {
      "cell_type": "code",
      "source": [
        "print(df[\"Clean_text\"][0])\n",
        "print(\"=========================\")\n",
        "print(df[\"text\"][0])"
      ],
      "metadata": {
        "colab": {
          "base_uri": "https://localhost:8080/"
        },
        "id": "7CCSKP1VHEIS",
        "outputId": "679e6cf7-e01d-4c1c-cead-5f8cf93bf998"
      },
      "execution_count": 20,
      "outputs": [
        {
          "output_type": "stream",
          "name": "stdout",
          "text": [
            "bummer shoulda got david carr third day\n",
            "=========================\n",
            "@switchfoot http://twitpic.com/2y1zl - Awww, that's a bummer.  You shoulda got David Carr of Third Day to do it. ;D\n"
          ]
        }
      ]
    },
    {
      "cell_type": "code",
      "source": [
        "from split_data2 import split_data\n",
        "X_train, X_test, y_train, y_test=split_data(df)\n",
        "X_train.shape,X_test.shape,y_train.shape,y_test.shape"
      ],
      "metadata": {
        "colab": {
          "base_uri": "https://localhost:8080/"
        },
        "id": "VEpo7mAIHH-i",
        "outputId": "0b504033-3217-4ed8-8603-fdada3d293cc"
      },
      "execution_count": 39,
      "outputs": [
        {
          "output_type": "execute_result",
          "data": {
            "text/plain": [
              "((1280000,), (320000,), (1280000,), (320000,))"
            ]
          },
          "metadata": {},
          "execution_count": 39
        }
      ]
    },
    {
      "cell_type": "code",
      "source": [
        "print(X_train[0])\n",
        "print(y_train[0])"
      ],
      "metadata": {
        "colab": {
          "base_uri": "https://localhost:8080/"
        },
        "id": "MgJqe2oJHRnL",
        "outputId": "efcc7b04-19b8-4167-cb9e-0908eee2112e"
      },
      "execution_count": 40,
      "outputs": [
        {
          "output_type": "stream",
          "name": "stdout",
          "text": [
            "bummer shoulda got david carr third day\n",
            "0\n"
          ]
        }
      ]
    },
    {
      "cell_type": "code",
      "source": [
        "from tfidf_vectorizer import create_tfidf\n",
        "\n",
        "X_train_tfidf, X_test_tfidf, tfidf = create_tfidf(X_train, X_test)"
      ],
      "metadata": {
        "id": "7o7qr7rOJwNT"
      },
      "execution_count": 41,
      "outputs": []
    },
    {
      "cell_type": "code",
      "source": [
        "print(X_train_tfidf)"
      ],
      "metadata": {
        "colab": {
          "base_uri": "https://localhost:8080/"
        },
        "id": "zvb392W-J5X9",
        "outputId": "cb02e09d-0ce4-4e9a-825d-60a964b25eab"
      },
      "execution_count": 42,
      "outputs": [
        {
          "output_type": "stream",
          "name": "stdout",
          "text": [
            "<Compressed Sparse Row sparse matrix of dtype 'float64'\n",
            "\twith 6757878 stored elements and shape (1280000, 5000)>\n",
            "  Coords\tValues\n",
            "  (0, 4930)\t0.27969968455389116\n",
            "  (0, 3494)\t0.22394394759681088\n",
            "  (0, 2546)\t0.18547883332403645\n",
            "  (0, 3166)\t0.40929309531199387\n",
            "  (0, 3395)\t0.37225338205300795\n",
            "  (0, 740)\t0.4132964722045624\n",
            "  (0, 4945)\t0.2548814710924437\n",
            "  (0, 4044)\t0.271638669542139\n",
            "  (0, 1819)\t0.18096462794580206\n",
            "  (0, 386)\t0.3425796791847437\n",
            "  (0, 3537)\t0.26729429599693394\n",
            "  (1, 1566)\t0.5443668679298573\n",
            "  (1, 1347)\t0.6739150006537197\n",
            "  (1, 65)\t0.49950303802292756\n",
            "  (2, 2546)\t0.3051357308708829\n",
            "  (2, 3871)\t0.5602375770864622\n",
            "  (2, 2547)\t0.770081841732541\n",
            "  (3, 3409)\t0.3195111501861014\n",
            "  (3, 308)\t0.27888051525192514\n",
            "  (3, 2981)\t0.25184311176320995\n",
            "  (3, 995)\t0.44743433556654827\n",
            "  (3, 2851)\t0.26398811601227545\n",
            "  (3, 1628)\t0.4269807901042669\n",
            "  (3, 1184)\t0.35557448202092035\n",
            "  (3, 3764)\t0.28191286287178446\n",
            "  :\t:\n",
            "  (1279994, 4129)\t0.4631795488027226\n",
            "  (1279995, 4754)\t0.28639708657960583\n",
            "  (1279995, 4023)\t0.38266233236975644\n",
            "  (1279995, 2780)\t0.5213707386028412\n",
            "  (1279995, 514)\t0.5692029282402739\n",
            "  (1279995, 732)\t0.41919783825239054\n",
            "  (1279996, 1819)\t0.5306437233368523\n",
            "  (1279996, 2625)\t0.8475949733706555\n",
            "  (1279997, 278)\t1.0\n",
            "  (1279998, 2584)\t0.18513682489934716\n",
            "  (1279998, 2806)\t0.1858778125452035\n",
            "  (1279998, 524)\t0.29864193707490844\n",
            "  (1279998, 1137)\t0.41645133160325454\n",
            "  (1279998, 2992)\t0.2942789969613182\n",
            "  (1279998, 4301)\t0.24286330499802225\n",
            "  (1279998, 1541)\t0.33428498704886855\n",
            "  (1279998, 2135)\t0.3642585694071932\n",
            "  (1279998, 4289)\t0.3572771680187258\n",
            "  (1279998, 4740)\t0.3884515812661616\n",
            "  (1279999, 3872)\t0.43069900838343345\n",
            "  (1279999, 2068)\t0.31727767423443265\n",
            "  (1279999, 2170)\t0.30648860729586896\n",
            "  (1279999, 1511)\t0.4461317274862247\n",
            "  (1279999, 2706)\t0.48744483111942116\n",
            "  (1279999, 4195)\t0.42809110426738733\n"
          ]
        }
      ]
    },
    {
      "cell_type": "code",
      "source": [
        "from lr import train_logistic_regression\n",
        "train_logistic_regression(X_train_tfidf, y_train, X_test_tfidf, y_test)"
      ],
      "metadata": {
        "colab": {
          "base_uri": "https://localhost:8080/"
        },
        "id": "zjGtSVTLPMBb",
        "outputId": "90b03fd0-51c1-4367-83de-944cc98be7f6"
      },
      "execution_count": 50,
      "outputs": [
        {
          "output_type": "stream",
          "name": "stdout",
          "text": [
            "🔸 Logistic Regression 🔸\n",
            "Classification Report:\n",
            "               precision    recall  f1-score   support\n",
            "\n",
            "           0       0.78      0.73      0.76    159494\n",
            "           4       0.75      0.79      0.77    160506\n",
            "\n",
            "    accuracy                           0.76    320000\n",
            "   macro avg       0.76      0.76      0.76    320000\n",
            "weighted avg       0.76      0.76      0.76    320000\n",
            "\n",
            "Accuracy Score:  0.763090625\n"
          ]
        }
      ]
    }
  ]
}
